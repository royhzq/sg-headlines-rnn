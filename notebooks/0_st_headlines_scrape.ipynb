{
 "cells": [
  {
   "cell_type": "markdown",
   "metadata": {},
   "source": [
    "# 0 - Straits Times Sitemap Scraper"
   ]
  },
  {
   "cell_type": "markdown",
   "metadata": {},
   "source": [
    "Script to iterate through sitemap pages of https://straitstimes.com.sg \n",
    "* URL of each news article and page number saved to csv file\n",
    "* Approximately ~500,000 articles\n",
    "* Requires selenium and Chrome / Firefox webdriver\n",
    "* Download the latest compatible chromedriver for your OS here https://chromedriver.chromium.org/downloads\n",
    "\n",
    "**Please scrape responsibly**"
   ]
  },
  {
   "cell_type": "code",
   "execution_count": null,
   "metadata": {},
   "outputs": [],
   "source": [
    "from selenium import webdriver\n",
    "from bs4 import BeautifulSoup\n",
    "import time\n",
    "import datetime\n",
    "import re\n",
    "import json"
   ]
  },
  {
   "cell_type": "code",
   "execution_count": null,
   "metadata": {},
   "outputs": [],
   "source": [
    "# Alter following code to use a different webdriver\n",
    "# Change path to your own chromedriver version\n",
    "driver = webdriver.Chrome('../bin/chromedriver')"
   ]
  },
  {
   "cell_type": "markdown",
   "metadata": {},
   "source": [
    "Head to sitemap homepage and obtain the total number of pages in sitemap"
   ]
  },
  {
   "cell_type": "code",
   "execution_count": null,
   "metadata": {},
   "outputs": [],
   "source": [
    "sitemap_url = \"https://www.straitstimes.com/sitemap.xml\"\n",
    "driver.get(sitemap_url)\n",
    "sitemap_info = driver.find_elements_by_xpath(\"//div[@id='information']\")[0].text\n",
    "n_pages = int(re.findall(r'\\d+', sitemap_info)[0])"
   ]
  },
  {
   "cell_type": "markdown",
   "metadata": {},
   "source": [
    "Iterate through each page and obtain the page source. Parse the page source using BeautifulSoup and save all anchor tag links in a csv.<br>\n",
    "Saved csv is in ./data/ folder"
   ]
  },
  {
   "cell_type": "code",
   "execution_count": null,
   "metadata": {},
   "outputs": [],
   "source": [
    "today = datetime.datetime.today().strftime(\"%Y%m%d-%H%M%S\")\n",
    "\n",
    "with open('../data/st_sitemap_{}.csv'.format(today), 'w') as f:\n",
    "    headers = \"url,page\"\n",
    "    f.write(headers)\n",
    "    f.write(\"\\n\")\n",
    "    for page in list(range(1, n_pages+1)):\n",
    "        sitemap_page = sitemap_url+\"?page=\"+str(page)\n",
    "        driver.get(sitemap_page)\n",
    "        source = driver.page_source\n",
    "        anchors = re.findall(r'<td><a href=\"(.*)\" ', driver.page_source)\n",
    "        print(\"Sitemap Page:{}\".format(page))\n",
    "        for i, a in enumerate(anchors): \n",
    "            row = \"{},{}\".format(a, str(page))\n",
    "            f.write(row)\n",
    "            f.write(\"\\n\")"
   ]
  }
 ],
 "metadata": {
  "kernelspec": {
   "display_name": "Python 3",
   "language": "python",
   "name": "python3"
  },
  "language_info": {
   "codemirror_mode": {
    "name": "ipython",
    "version": 3
   },
   "file_extension": ".py",
   "mimetype": "text/x-python",
   "name": "python",
   "nbconvert_exporter": "python",
   "pygments_lexer": "ipython3",
   "version": "3.6.8"
  }
 },
 "nbformat": 4,
 "nbformat_minor": 2
}
