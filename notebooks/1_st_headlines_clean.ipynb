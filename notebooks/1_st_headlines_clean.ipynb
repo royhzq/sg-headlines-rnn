{
 "cells": [
  {
   "cell_type": "markdown",
   "metadata": {},
   "source": [
    "# 1 - Straits Times Headlines Cleaning"
   ]
  },
  {
   "cell_type": "markdown",
   "metadata": {},
   "source": [
    "This notebook takes in the scraped URLS of all news articles from the sitemap of https://straitstimes.com and processes the data to generate a dataset of news article headlines to train a neural network to generate its own headlines. Also generates a cleaned dataset for EDA."
   ]
  },
  {
   "cell_type": "code",
   "execution_count": 1,
   "metadata": {},
   "outputs": [],
   "source": [
    "import pandas as pd\n",
    "import numpy as np\n",
    "import json\n",
    "pd.options.display.max_colwidth = 150\n",
    "\n",
    "df = pd.read_csv(\"../data/stsitemap_20191001-093746.csv\")\n",
    "df = df.drop(df.index[0])"
   ]
  },
  {
   "cell_type": "code",
   "execution_count": 2,
   "metadata": {},
   "outputs": [
    {
     "data": {
      "text/html": [
       "<div>\n",
       "<style scoped>\n",
       "    .dataframe tbody tr th:only-of-type {\n",
       "        vertical-align: middle;\n",
       "    }\n",
       "\n",
       "    .dataframe tbody tr th {\n",
       "        vertical-align: top;\n",
       "    }\n",
       "\n",
       "    .dataframe thead th {\n",
       "        text-align: right;\n",
       "    }\n",
       "</style>\n",
       "<table border=\"1\" class=\"dataframe\">\n",
       "  <thead>\n",
       "    <tr style=\"text-align: right;\">\n",
       "      <th></th>\n",
       "      <th>url</th>\n",
       "      <th>page</th>\n",
       "    </tr>\n",
       "  </thead>\n",
       "  <tbody>\n",
       "    <tr>\n",
       "      <td>226127</td>\n",
       "      <td>https://www.straitstimes.com/lifestyle/arts/tears-that-cracked-the-great-wall</td>\n",
       "      <td>46</td>\n",
       "    </tr>\n",
       "    <tr>\n",
       "      <td>398078</td>\n",
       "      <td>https://www.straitstimes.com/world/africa/female-suicide-bomber-in-nigerias-maiduguri-kills-two-near-checkpoint</td>\n",
       "      <td>80</td>\n",
       "    </tr>\n",
       "    <tr>\n",
       "      <td>11423</td>\n",
       "      <td>https://www.straitstimes.com/world/ukraine-crisis-russian-navy-blocks-channel-between-crimea-and-russia</td>\n",
       "      <td>3</td>\n",
       "    </tr>\n",
       "    <tr>\n",
       "      <td>96742</td>\n",
       "      <td>https://www.straitstimes.com/world/europe/bodies-of-21-migrants-found-after-boats-sink-off-turkey</td>\n",
       "      <td>20</td>\n",
       "    </tr>\n",
       "    <tr>\n",
       "      <td>434496</td>\n",
       "      <td>https://www.straitstimes.com/business/banking/hsbc-adding-50-jobs-in-singapore-in-plan-for-asia-retail-wealth-headcount-boost</td>\n",
       "      <td>87</td>\n",
       "    </tr>\n",
       "  </tbody>\n",
       "</table>\n",
       "</div>"
      ],
      "text/plain": [
       "                                                                                                                                  url  \\\n",
       "226127                                                  https://www.straitstimes.com/lifestyle/arts/tears-that-cracked-the-great-wall   \n",
       "398078                https://www.straitstimes.com/world/africa/female-suicide-bomber-in-nigerias-maiduguri-kills-two-near-checkpoint   \n",
       "11423                         https://www.straitstimes.com/world/ukraine-crisis-russian-navy-blocks-channel-between-crimea-and-russia   \n",
       "96742                               https://www.straitstimes.com/world/europe/bodies-of-21-migrants-found-after-boats-sink-off-turkey   \n",
       "434496  https://www.straitstimes.com/business/banking/hsbc-adding-50-jobs-in-singapore-in-plan-for-asia-retail-wealth-headcount-boost   \n",
       "\n",
       "        page  \n",
       "226127    46  \n",
       "398078    80  \n",
       "11423      3  \n",
       "96742     20  \n",
       "434496    87  "
      ]
     },
     "execution_count": 2,
     "metadata": {},
     "output_type": "execute_result"
    }
   ],
   "source": [
    "df.sample(5)"
   ]
  },
  {
   "cell_type": "markdown",
   "metadata": {},
   "source": [
    "#### Drop URLs not from Straits Times"
   ]
  },
  {
   "cell_type": "code",
   "execution_count": 9,
   "metadata": {},
   "outputs": [
    {
     "data": {
      "text/html": [
       "<div>\n",
       "<style scoped>\n",
       "    .dataframe tbody tr th:only-of-type {\n",
       "        vertical-align: middle;\n",
       "    }\n",
       "\n",
       "    .dataframe tbody tr th {\n",
       "        vertical-align: top;\n",
       "    }\n",
       "\n",
       "    .dataframe thead th {\n",
       "        text-align: right;\n",
       "    }\n",
       "</style>\n",
       "<table border=\"1\" class=\"dataframe\">\n",
       "  <thead>\n",
       "    <tr style=\"text-align: right;\">\n",
       "      <th></th>\n",
       "      <th>url</th>\n",
       "      <th>page</th>\n",
       "    </tr>\n",
       "  </thead>\n",
       "  <tbody>\n",
       "    <tr>\n",
       "      <td>275922</td>\n",
       "      <td>http://www.straitstimes.com/lifestyle/food/fratelli-at-rws-italian-cuisine-steeped-in-michelin-heritage?xtor=CS12-104-%5BST_Editorial_Tile%5D-%5BN...</td>\n",
       "      <td>56</td>\n",
       "    </tr>\n",
       "    <tr>\n",
       "      <td>296276</td>\n",
       "      <td>http://pubads.g.doubleclick.net/gampad/clk?id=4532408159&amp;amp;iu=/5908/project</td>\n",
       "      <td>60</td>\n",
       "    </tr>\n",
       "    <tr>\n",
       "      <td>303335</td>\n",
       "      <td>http://pubads.g.doubleclick.net/gampad/clk?id=4551947981&amp;amp;iu=/5908/project</td>\n",
       "      <td>61</td>\n",
       "    </tr>\n",
       "    <tr>\n",
       "      <td>316940</td>\n",
       "      <td>http://staff.straitstimes.com/world/unitedstates/gunman-was-treated-at-veterans-facility-before-he-killed-three-hostages-there-officials-say</td>\n",
       "      <td>64</td>\n",
       "    </tr>\n",
       "  </tbody>\n",
       "</table>\n",
       "</div>"
      ],
      "text/plain": [
       "                                                                                                                                                          url  \\\n",
       "275922  http://www.straitstimes.com/lifestyle/food/fratelli-at-rws-italian-cuisine-steeped-in-michelin-heritage?xtor=CS12-104-%5BST_Editorial_Tile%5D-%5BN...   \n",
       "296276                                                                          http://pubads.g.doubleclick.net/gampad/clk?id=4532408159&amp;iu=/5908/project   \n",
       "303335                                                                          http://pubads.g.doubleclick.net/gampad/clk?id=4551947981&amp;iu=/5908/project   \n",
       "316940           http://staff.straitstimes.com/world/unitedstates/gunman-was-treated-at-veterans-facility-before-he-killed-three-hostages-there-officials-say   \n",
       "\n",
       "        page  \n",
       "275922    56  \n",
       "296276    60  \n",
       "303335    61  \n",
       "316940    64  "
      ]
     },
     "execution_count": 9,
     "metadata": {},
     "output_type": "execute_result"
    }
   ],
   "source": [
    "df.loc[df['url'].str.contains('https://www.straitstimes.com/')==False]"
   ]
  },
  {
   "cell_type": "code",
   "execution_count": 11,
   "metadata": {},
   "outputs": [],
   "source": [
    "df.drop(df.loc[df['url'].str.contains('https://www.straitstimes.com/')==False].index, inplace=True)"
   ]
  },
  {
   "cell_type": "code",
   "execution_count": 12,
   "metadata": {
    "scrolled": true
   },
   "outputs": [
    {
     "name": "stdout",
     "output_type": "stream",
     "text": [
      "Total Number of URLS: 500597\n"
     ]
    }
   ],
   "source": [
    "print(f'Total Number of URLS: {df.shape[0]}')"
   ]
  },
  {
   "cell_type": "markdown",
   "metadata": {},
   "source": [
    "#### Generate headlines and categories from URLs"
   ]
  },
  {
   "cell_type": "code",
   "execution_count": 8,
   "metadata": {},
   "outputs": [],
   "source": [
    "def clean_headline(url):\n",
    "    '''Generate headlines from URL\n",
    "    '''\n",
    "    try:\n",
    "        headline = url.split('/')[-1]\n",
    "        headline = headline.split('-')\n",
    "        # Caps first letter of every word\n",
    "        headline = [ w[0].upper() + w[1:] if len(w) > 0 else w for w in headline ] \n",
    "        headline = ' '.join(headline)\n",
    "        return headline\n",
    "    \n",
    "    except Exception as e:\n",
    "        print(url, e)\n",
    "        return url"
   ]
  },
  {
   "cell_type": "code",
   "execution_count": 9,
   "metadata": {},
   "outputs": [],
   "source": [
    "def clean_category(url):\n",
    "    '''Generate categories from URL\n",
    "    '''\n",
    "    try:        \n",
    "        category = url.replace('https://www.straitstimes.com/','').split('/')[:-1]\n",
    "        # Caps first letter of every word\n",
    "        category = [ w[0].upper() + w[1:] if len(w) > 0 else w for w in category ] \n",
    "        category = '/'.join(category)\n",
    "        return category\n",
    "    \n",
    "    except Exception as e:\n",
    "        print(url, e)\n",
    "        return url"
   ]
  },
  {
   "cell_type": "markdown",
   "metadata": {},
   "source": [
    "#### Test functions on one sample"
   ]
  },
  {
   "cell_type": "code",
   "execution_count": 14,
   "metadata": {
    "scrolled": false
   },
   "outputs": [
    {
     "name": "stdout",
     "output_type": "stream",
     "text": [
      "URL: https://www.straitstimes.com/opinion/asean-seize-initiative-to-act-now-on-n-e-asia-south-asia\n",
      "Headline: Asean Seize Initiative To Act Now On N E Asia South Asia\n",
      "Category: Opinion\n"
     ]
    }
   ],
   "source": [
    "sample = df['url'].sample(1).iloc[0]\n",
    "print(f'URL: {sample}')\n",
    "print(f'Headline: {clean_headline(sample)}')\n",
    "print(f'Category: {clean_category(sample)}')"
   ]
  },
  {
   "cell_type": "markdown",
   "metadata": {},
   "source": [
    "#### Generate headlines for all URLs"
   ]
  },
  {
   "cell_type": "code",
   "execution_count": 15,
   "metadata": {},
   "outputs": [],
   "source": [
    "df['Headline'] = df['url'].apply(lambda x: clean_headline(x))"
   ]
  },
  {
   "cell_type": "code",
   "execution_count": 16,
   "metadata": {
    "scrolled": true
   },
   "outputs": [
    {
     "data": {
      "text/plain": [
       "469850    Tiananmen Square Protests Made The Government More Responsive To Peoples Needs\n",
       "57771                                                                       Style News 3\n",
       "349944            Hundreds Of Thousands Evacuated In Japan As Historic Rain Falls 2 Dead\n",
       "191911             Bush Daughters Advise Malia And Sasha Obama On Life After White House\n",
       "269958                                            Fuzzy Pains And Joys Of Being A Family\n",
       "128305                              Security Forces On Alert As Filipinos Pick President\n",
       "157370                          China Launches Jet Engine Conglomerate In Aerospace Push\n",
       "69350                                                       Whats News September 21 2015\n",
       "152057                              30 Years On Control Shows Janet Jackson Is Essential\n",
       "209288              Dutch Mayor Gives Go Ahead To Pro Turkish Rally Amid Row With Turkey\n",
       "Name: Headline, dtype: object"
      ]
     },
     "execution_count": 16,
     "metadata": {},
     "output_type": "execute_result"
    }
   ],
   "source": [
    "df['Headline'].sample(10)"
   ]
  },
  {
   "cell_type": "markdown",
   "metadata": {},
   "source": [
    "#### Check and remove duplicates"
   ]
  },
  {
   "cell_type": "code",
   "execution_count": 18,
   "metadata": {},
   "outputs": [
    {
     "data": {
      "text/plain": [
       "False    497113\n",
       "True       3484\n",
       "Name: Headline, dtype: int64"
      ]
     },
     "execution_count": 18,
     "metadata": {},
     "output_type": "execute_result"
    }
   ],
   "source": [
    "df['Headline'].duplicated().value_counts()"
   ]
  },
  {
   "cell_type": "code",
   "execution_count": 19,
   "metadata": {},
   "outputs": [],
   "source": [
    "df.drop(df['Headline'].loc[df['Headline'].duplicated()].index, inplace=True)"
   ]
  },
  {
   "cell_type": "markdown",
   "metadata": {},
   "source": [
    "#### Generate categories for all URLs"
   ]
  },
  {
   "cell_type": "code",
   "execution_count": 20,
   "metadata": {},
   "outputs": [],
   "source": [
    "df['Category'] = df['url'].apply(lambda x: clean_category(x))"
   ]
  },
  {
   "cell_type": "code",
   "execution_count": 21,
   "metadata": {},
   "outputs": [
    {
     "data": {
      "text/plain": [
       "467837                  Asia/Se-asia\n",
       "477334    Business/Companies-markets\n",
       "13992                          World\n",
       "104907                  World/Europe\n",
       "484278                     Singapore\n",
       "61182            Singapore/Education\n",
       "41745                          World\n",
       "24497                          World\n",
       "478875                  World/Africa\n",
       "195347                  Asia/Se-asia\n",
       "Name: Category, dtype: object"
      ]
     },
     "execution_count": 21,
     "metadata": {},
     "output_type": "execute_result"
    }
   ],
   "source": [
    "df['Category'].sample(10)"
   ]
  },
  {
   "cell_type": "markdown",
   "metadata": {},
   "source": [
    "#### Create word count and character count features"
   ]
  },
  {
   "cell_type": "code",
   "execution_count": 24,
   "metadata": {},
   "outputs": [],
   "source": [
    "def count_words(text):\n",
    "    # Count words in headlines\n",
    "    return len(text.split(' '))\n",
    "\n",
    "def count_chars(text):\n",
    "    # Count characters in headline \n",
    "    # Includes whitespace\n",
    "    return len(text)\n",
    "\n",
    "df['Wordcount'] = df['Headline'].apply(lambda x: count_words(x))\n",
    "df['Charcount'] = df['Headline'].apply(lambda x: count_chars(x))"
   ]
  },
  {
   "cell_type": "markdown",
   "metadata": {},
   "source": [
    "#### Inspect 95th percentile for word count"
   ]
  },
  {
   "cell_type": "code",
   "execution_count": 26,
   "metadata": {},
   "outputs": [
    {
     "data": {
      "text/plain": [
       "15965           Government To Unveil Scheme To Help About 170000 Low Income Households In Digital Tv\n",
       "105004           Sias Stake In Tiger Crosses 90 Mark Rest Of Shareholders Have Till Feb 19 To Accept\n",
       "266410               We Have A Problem With Our Neighbours Qatar Emir Tells Trump Who Predicts Quick\n",
       "256101       Singaporean Consumers More Confident In First Six Months Of 2017 After 2016s Low Survey\n",
       "33993           Bo Xilai Trial Bos Other Son Thanks China For Allowing Father To Speak Freely Report\n",
       "242539    Netlink Nbn Trust Set To Be Biggest Ipo In Singapore In Six Years With Pricing At 81 Cents\n",
       "335035                      Football Dont Cry For Me Says Injured Dani Alves Who Promises To Be Back\n",
       "38610     Police Break Into House Arrest Teenagers After Two Hour Standoff Arising From Rent Dispute\n",
       "390446                  Porn Star Stormy Daniels Is Ordered To Pay Trump 400000 In Fees After Losing\n",
       "293969          Japan To Clamp Down On Suicide Sites And Stress More Proactive Support After Twitter\n",
       "Name: Headline, dtype: object"
      ]
     },
     "execution_count": 26,
     "metadata": {},
     "output_type": "execute_result"
    }
   ],
   "source": [
    "df['Headline'].loc[df['Wordcount'] >= df['Wordcount'].quantile(0.95)].sample(10)"
   ]
  },
  {
   "cell_type": "markdown",
   "metadata": {},
   "source": [
    "#### Inspect Headlines with the least words (5th percentile)"
   ]
  },
  {
   "cell_type": "code",
   "execution_count": 294,
   "metadata": {},
   "outputs": [
    {
     "data": {
      "text/plain": [
       "64842               All The Single Seat Women\n",
       "166766                  Market Highlights 180\n",
       "117902                         On Facebook 68\n",
       "247291                      Next 48 Hours 744\n",
       "444581             Kicking His Way To Fitness\n",
       "135291                    Alis Key Milestones\n",
       "73361                       Next 48 Hours 106\n",
       "294258           Osa Case How Events Unfolded\n",
       "91243     Fitting Gift For Juronghealth Staff\n",
       "197624               In Pictures Puglia Italy\n",
       "Name: Headline, dtype: object"
      ]
     },
     "execution_count": 294,
     "metadata": {},
     "output_type": "execute_result"
    }
   ],
   "source": [
    "df['Headline'].loc[df['Wordcount'] <= df['Wordcount'].quantile(0.05)].sample(10)"
   ]
  },
  {
   "cell_type": "markdown",
   "metadata": {},
   "source": [
    "Inspecting headlines with the least words reveals many headlines that are in fact names of recurring news segments such as 'Next 48 Hours' and 'On Facebook'. These segments were not duplicates because they are appended with an increment version number at the end of the sub-headine. They also tend to be short in word count."
   ]
  },
  {
   "cell_type": "markdown",
   "metadata": {},
   "source": [
    "We will attempt to remove these recurring news segments from the dataset."
   ]
  },
  {
   "cell_type": "code",
   "execution_count": 27,
   "metadata": {},
   "outputs": [
    {
     "data": {
      "text/plain": [
       "189109    Go Ahead Quote Me 460\n",
       "390975       Next 48 Hours 1216\n",
       "350582    Whats Next Jul 9 2018\n",
       "148405          Music Charts 56\n",
       "68254     Upcoming Sme Events 4\n",
       "228494         Top 10 Movies 93\n",
       "207052            Food Picks 36\n",
       "156657    Go Ahead Quote Me 356\n",
       "79189              Style News 9\n",
       "307075             Hot Bods 120\n",
       "Name: Headline, dtype: object"
      ]
     },
     "execution_count": 27,
     "metadata": {},
     "output_type": "execute_result"
    }
   ],
   "source": [
    "# Titles that end with number are likely repetitive sub headlines that represent\n",
    "# Recurring news segments such as \"Next 48 Hours\" nad \"Punchlines ...\"\n",
    "# Remove all these segment titles\n",
    "df['last_word_digit'] = df['Headline'].apply(lambda x: x.split(' ')[-1].isdigit()) # True if last word is digit\n",
    "df['Headline'].loc[(df['Wordcount'] <= df['Wordcount'].quantile(0.05)) & (df['last_word_digit'])].sample(10)"
   ]
  },
  {
   "cell_type": "markdown",
   "metadata": {},
   "source": [
    "#### Drop the recurring news segments"
   ]
  },
  {
   "cell_type": "code",
   "execution_count": 29,
   "metadata": {},
   "outputs": [],
   "source": [
    "df.drop(df['Headline'].loc[(df['Wordcount'] <= df['Wordcount'].quantile(0.05)) & (df['last_word_digit'])].index, inplace=True)"
   ]
  },
  {
   "cell_type": "markdown",
   "metadata": {},
   "source": [
    "#### Remove Other Repetitive headlines"
   ]
  },
  {
   "cell_type": "code",
   "execution_count": 30,
   "metadata": {},
   "outputs": [],
   "source": [
    "df.drop(df['Headline'].loc[df['Headline'].str.contains(\"Singapore Shares Open\")].index[1:], inplace=True)\n",
    "df.drop(df['Headline'].loc[df['Headline'].str.contains(\"The Straits Times News In A Minute \")].index[1:], inplace=True)\n",
    "df.drop(df['Headline'].loc[df['Headline'].str.contains(\"Top Stories From The Straits Times \")].index[1:], inplace=True)"
   ]
  },
  {
   "cell_type": "markdown",
   "metadata": {},
   "source": [
    "#### Shuffle rows"
   ]
  },
  {
   "cell_type": "code",
   "execution_count": 31,
   "metadata": {
    "scrolled": true
   },
   "outputs": [],
   "source": [
    "df = df.sample(frac=1).reset_index(drop=True) "
   ]
  },
  {
   "cell_type": "markdown",
   "metadata": {},
   "source": [
    "#### Export cleaned dataset for training"
   ]
  },
  {
   "cell_type": "code",
   "execution_count": 34,
   "metadata": {},
   "outputs": [],
   "source": [
    "with open('../data/st_headlines.txt', 'w') as f:\n",
    "    f.write(df['Headline'].to_csv(index=False, header=False))"
   ]
  },
  {
   "cell_type": "markdown",
   "metadata": {},
   "source": [
    "#### Export mappings from text to id and vice versa"
   ]
  },
  {
   "cell_type": "code",
   "execution_count": 26,
   "metadata": {},
   "outputs": [],
   "source": [
    "with open('../data/st_headlines.txt', 'r') as f:\n",
    "    vocab = sorted(set(f.read()))\n",
    "\n",
    "    with open('../data/st_char2idx.txt', 'w') as char2idx_f:\n",
    "        char2idx = json.dumps({u:i for i, u in enumerate(vocab)})\n",
    "        char2idx_f.write(char2idx)\n",
    "    \n",
    "    with open('../data/st_idx2char.txt', 'w') as idx2char_f:\n",
    "        idx2char = json.dumps(vocab)\n",
    "        idx2char_f.write(idx2char)"
   ]
  },
  {
   "cell_type": "markdown",
   "metadata": {},
   "source": [
    "#### Export cleaned dataset for EDA"
   ]
  },
  {
   "cell_type": "code",
   "execution_count": 33,
   "metadata": {},
   "outputs": [],
   "source": [
    "df[['Headline', 'Category', 'Wordcount', 'Charcount']].to_csv(\"../data/st_sitemap_clean.csv\", index=False)"
   ]
  }
 ],
 "metadata": {
  "kernelspec": {
   "display_name": "Python 3",
   "language": "python",
   "name": "python3"
  },
  "language_info": {
   "codemirror_mode": {
    "name": "ipython",
    "version": 3
   },
   "file_extension": ".py",
   "mimetype": "text/x-python",
   "name": "python",
   "nbconvert_exporter": "python",
   "pygments_lexer": "ipython3",
   "version": "3.6.8"
  }
 },
 "nbformat": 4,
 "nbformat_minor": 2
}
